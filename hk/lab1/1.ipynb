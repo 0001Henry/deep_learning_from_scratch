{
 "cells": [
  {
   "cell_type": "code",
   "execution_count": 1,
   "metadata": {},
   "outputs": [
    {
     "name": "stderr",
     "output_type": "stream",
     "text": [
      "/opt/conda/envs/ldm/lib/python3.8/site-packages/tqdm/auto.py:21: TqdmWarning: IProgress not found. Please update jupyter and ipywidgets. See https://ipywidgets.readthedocs.io/en/stable/user_install.html\n",
      "  from .autonotebook import tqdm as notebook_tqdm\n"
     ]
    }
   ],
   "source": [
    "import torch\n",
    "import torch.nn as nn"
   ]
  },
  {
   "cell_type": "markdown",
   "metadata": {},
   "source": [
    "## 一、Pytorch基本操作考察\n",
    "\n",
    "1.使用 𝐓𝐞𝐧𝐬𝐨𝐫 初始化一个 𝟏×𝟑 的矩阵 𝑴 和一个 𝟐×𝟏 的矩阵 𝑵，对两矩阵进行减法操作（要求实现三种不同的形式），给出结果并分析三种方式的不同（如果出现报错，分析报错的原因），同时需要指出在计算过程中发生了什么"
   ]
  },
  {
   "cell_type": "code",
   "execution_count": 2,
   "metadata": {},
   "outputs": [
    {
     "name": "stdout",
     "output_type": "stream",
     "text": [
      "tensor([[-1.0299, -0.7920, -1.3551],\n",
      "        [-0.9191, -0.6811, -1.2443]])\n",
      "tensor([[-1.0299, -0.7920, -1.3551],\n",
      "        [-0.9191, -0.6811, -1.2443]])\n",
      "tensor([[-1.0299, -0.7920, -1.3551],\n",
      "        [-0.9191, -0.6811, -1.2443]])\n"
     ]
    }
   ],
   "source": [
    "M = torch.randn(1, 3)\n",
    "N = torch.randn(2, 1)\n",
    "\n",
    "print(M - N)\n",
    "print(torch.sub(M, N))\n",
    "print(M.sub(N))"
   ]
  },
  {
   "cell_type": "markdown",
   "metadata": {},
   "source": []
  },
  {
   "cell_type": "code",
   "execution_count": 3,
   "metadata": {},
   "outputs": [
    {
     "ename": "RuntimeError",
     "evalue": "output with shape [1, 3] doesn't match the broadcast shape [2, 3]",
     "output_type": "error",
     "traceback": [
      "\u001b[0;31m---------------------------------------------------------------------------\u001b[0m",
      "\u001b[0;31mRuntimeError\u001b[0m                              Traceback (most recent call last)",
      "Cell \u001b[0;32mIn[3], line 1\u001b[0m\n\u001b[0;32m----> 1\u001b[0m \u001b[38;5;28mprint\u001b[39m(\u001b[43mM\u001b[49m\u001b[38;5;241;43m.\u001b[39;49m\u001b[43msub_\u001b[49m\u001b[43m(\u001b[49m\u001b[43mN\u001b[49m\u001b[43m)\u001b[49m) \u001b[38;5;66;03m# 会报错\u001b[39;00m\n",
      "\u001b[0;31mRuntimeError\u001b[0m: output with shape [1, 3] doesn't match the broadcast shape [2, 3]"
     ]
    }
   ],
   "source": [
    "print(M.sub_(N)) # 会报错"
   ]
  },
  {
   "cell_type": "markdown",
   "metadata": {},
   "source": [
    "2.① 利用 𝐓𝐞𝐧𝐬𝐨𝐫 创建两个大小分别 𝟑×𝟐 和 𝟒×𝟐 的随机数矩阵 𝑷 和 𝑸 ，要求服从均值为0，标准差0.01为的正态分布；② 对第二步得到的矩阵 𝑸 进行形状变换得到 𝑸 的转置 𝑸^𝑻 ；③ 对上述得到的矩阵 𝑷 和矩阵 𝑸^𝑻 求矩阵相乘."
   ]
  },
  {
   "cell_type": "code",
   "execution_count": 4,
   "metadata": {},
   "outputs": [
    {
     "name": "stdout",
     "output_type": "stream",
     "text": [
      "P: tensor([[ 0.0023,  0.0134],\n",
      "        [ 0.0125,  0.0088],\n",
      "        [ 0.0066, -0.0122]])\n",
      "Q: tensor([[ 0.0065, -0.0206],\n",
      "        [ 0.0102,  0.0080],\n",
      "        [-0.0160, -0.0124],\n",
      "        [-0.0030, -0.0214]])\n",
      "Q_T: tensor([[ 0.0065,  0.0102, -0.0160, -0.0030],\n",
      "        [-0.0206,  0.0080, -0.0124, -0.0214]])\n",
      "P@Q_T: tensor([[-2.6106e-04,  1.2988e-04, -2.0217e-04, -2.9347e-04],\n",
      "        [-1.0016e-04,  1.9681e-04, -3.0855e-04, -2.2538e-04],\n",
      "        [ 2.9445e-04, -3.0432e-05,  4.5649e-05,  2.4194e-04]])\n",
      "P.mm(Q_T): tensor([[-2.6106e-04,  1.2988e-04, -2.0217e-04, -2.9347e-04],\n",
      "        [-1.0016e-04,  1.9681e-04, -3.0855e-04, -2.2538e-04],\n",
      "        [ 2.9445e-04, -3.0432e-05,  4.5649e-05,  2.4194e-04]])\n"
     ]
    }
   ],
   "source": [
    "P = torch.normal(0, 0.01, (3, 2))\n",
    "Q = torch.normal(0, 0.01, (4, 2))\n",
    "print('P:', P)\n",
    "print('Q:', Q)\n",
    "Q_T = Q.T\n",
    "print('Q_T:', Q_T)\n",
    "print('P@Q_T:', P@Q_T)\n",
    "print('P.mm(Q_T):', P.mm(Q_T))"
   ]
  },
  {
   "cell_type": "markdown",
   "metadata": {},
   "source": [
    "3.给定公式 $𝑦_3=𝑦_1+𝑦_2=𝑥^2+𝑥^3$，且 $𝑥=1$。利用学习所得到的Tensor的相关知识，求$𝑦_3$对$𝑥$的梯度，即$(𝑑𝑦_3)/𝑑𝑥$。\n",
    "要求在计算过程中，在计算$𝑥^3$ 时中断梯度的追踪，观察结果并进行原因分析。提示, 可使用 with torch.no_grad()"
   ]
  },
  {
   "cell_type": "code",
   "execution_count": 5,
   "metadata": {},
   "outputs": [
    {
     "name": "stdout",
     "output_type": "stream",
     "text": [
      "x = 1.0\n",
      "y3 = 2.0\n",
      "dy3/dx = 2.0\n"
     ]
    }
   ],
   "source": [
    "# 设置 x 的值为 1，并要求梯度计算\n",
    "x = torch.tensor(1.0, requires_grad=True)\n",
    "\n",
    "y1 = x**2\n",
    "\n",
    "# 使用 with torch.no_grad() 计算 y2 = x^3，中断梯度追踪\n",
    "with torch.no_grad():\n",
    "    y2 = x**3\n",
    "\n",
    "y3 = y1 + y2\n",
    "\n",
    "# 计算 y3 对 x 的梯度\n",
    "y3.backward()\n",
    "\n",
    "# 打印结果\n",
    "print(f\"x = {x}\")\n",
    "print(f\"y3 = {y3}\")\n",
    "print(f\"dy3/dx = {x.grad}\")"
   ]
  },
  {
   "cell_type": "markdown",
   "metadata": {},
   "source": []
  },
  {
   "cell_type": "markdown",
   "metadata": {},
   "source": []
  }
 ],
 "metadata": {
  "kernelspec": {
   "display_name": "ldm",
   "language": "python",
   "name": "python3"
  },
  "language_info": {
   "codemirror_mode": {
    "name": "ipython",
    "version": 3
   },
   "file_extension": ".py",
   "mimetype": "text/x-python",
   "name": "python",
   "nbconvert_exporter": "python",
   "pygments_lexer": "ipython3",
   "version": "3.8.5"
  }
 },
 "nbformat": 4,
 "nbformat_minor": 2
}
